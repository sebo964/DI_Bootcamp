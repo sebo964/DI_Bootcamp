{
 "cells": [
  {
   "cell_type": "code",
   "execution_count": 2,
   "metadata": {},
   "outputs": [
    {
     "name": "stdout",
     "output_type": "stream",
     "text": [
      "2\n"
     ]
    },
    {
     "ename": "FileNotFoundError",
     "evalue": "[Errno 2] No such file or directory: 'week5/day4/testtextday4.txt'",
     "output_type": "error",
     "traceback": [
      "\u001b[0;31m---------------------------------------------------------------------------\u001b[0m",
      "\u001b[0;31mFileNotFoundError\u001b[0m                         Traceback (most recent call last)",
      "Cell \u001b[0;32mIn[2], line 48\u001b[0m\n\u001b[1;32m     44\u001b[0m word_freq \u001b[39m=\u001b[39m Word_count\u001b[39m.\u001b[39mword_frequency(\u001b[39m\"\u001b[39m\u001b[39mgood\u001b[39m\u001b[39m\"\u001b[39m)\n\u001b[1;32m     46\u001b[0m \u001b[39mprint\u001b[39m(word_freq)\n\u001b[0;32m---> 48\u001b[0m albert \u001b[39m=\u001b[39m Text\u001b[39m.\u001b[39;49mfrom_file(\u001b[39m\"\u001b[39;49m\u001b[39mweek5/day4/testtextday4.txt\u001b[39;49m\u001b[39m\"\u001b[39;49m)\n\u001b[1;32m     50\u001b[0m \u001b[39mprint\u001b[39m(albert)\n\u001b[1;32m     52\u001b[0m \u001b[39m# Part II\u001b[39;00m\n\u001b[1;32m     53\u001b[0m \n\u001b[1;32m     54\u001b[0m \u001b[39m# Then, we will analyze a text coming from an external text file. Download the_stranger.txt file.\u001b[39;00m\n\u001b[0;32m   (...)\u001b[0m\n\u001b[1;32m     72\u001b[0m \u001b[39m# a method that returns the text without any special characters.\u001b[39;00m\n\u001b[1;32m     73\u001b[0m \u001b[39m# Note: Feel free to implement/create any attribute, method or function needed to make this work, be creative :)\u001b[39;00m\n",
      "Cell \u001b[0;32mIn[2], line 36\u001b[0m, in \u001b[0;36mText.from_file\u001b[0;34m(cls, file)\u001b[0m\n\u001b[1;32m     34\u001b[0m \u001b[39m@classmethod\u001b[39m\n\u001b[1;32m     35\u001b[0m \u001b[39mdef\u001b[39;00m \u001b[39mfrom_file\u001b[39m(\u001b[39mcls\u001b[39m, file):\n\u001b[0;32m---> 36\u001b[0m     \u001b[39mwith\u001b[39;00m \u001b[39mopen\u001b[39;49m(file) \u001b[39mas\u001b[39;00m f:\n\u001b[1;32m     37\u001b[0m         \u001b[39mreturn\u001b[39;00m f\u001b[39m.\u001b[39mread()\n",
      "File \u001b[0;32m/Library/Frameworks/Python.framework/Versions/3.11/lib/python3.11/site-packages/IPython/core/interactiveshell.py:282\u001b[0m, in \u001b[0;36m_modified_open\u001b[0;34m(file, *args, **kwargs)\u001b[0m\n\u001b[1;32m    275\u001b[0m \u001b[39mif\u001b[39;00m file \u001b[39min\u001b[39;00m {\u001b[39m0\u001b[39m, \u001b[39m1\u001b[39m, \u001b[39m2\u001b[39m}:\n\u001b[1;32m    276\u001b[0m     \u001b[39mraise\u001b[39;00m \u001b[39mValueError\u001b[39;00m(\n\u001b[1;32m    277\u001b[0m         \u001b[39mf\u001b[39m\u001b[39m\"\u001b[39m\u001b[39mIPython won\u001b[39m\u001b[39m'\u001b[39m\u001b[39mt let you open fd=\u001b[39m\u001b[39m{\u001b[39;00mfile\u001b[39m}\u001b[39;00m\u001b[39m by default \u001b[39m\u001b[39m\"\u001b[39m\n\u001b[1;32m    278\u001b[0m         \u001b[39m\"\u001b[39m\u001b[39mas it is likely to crash IPython. If you know what you are doing, \u001b[39m\u001b[39m\"\u001b[39m\n\u001b[1;32m    279\u001b[0m         \u001b[39m\"\u001b[39m\u001b[39myou can use builtins\u001b[39m\u001b[39m'\u001b[39m\u001b[39m open.\u001b[39m\u001b[39m\"\u001b[39m\n\u001b[1;32m    280\u001b[0m     )\n\u001b[0;32m--> 282\u001b[0m \u001b[39mreturn\u001b[39;00m io_open(file, \u001b[39m*\u001b[39;49margs, \u001b[39m*\u001b[39;49m\u001b[39m*\u001b[39;49mkwargs)\n",
      "\u001b[0;31mFileNotFoundError\u001b[0m: [Errno 2] No such file or directory: 'week5/day4/testtextday4.txt'"
     ]
    }
   ],
   "source": [
    "# # Instructions :\n",
    "\n",
    "# The goal of the exercise is to create a class that will help you analyze a specific text. A text can be just a simple string, like “Today, is a happy day” or it can be an external text file.\n",
    "\n",
    "\n",
    "test_string = \"A good book would sometimes cost as much as a good house.\"\n",
    "\n",
    "\n",
    "# Part I\n",
    "\n",
    "# First, we will analyze a simple string, like “A good book would sometimes cost as much as a good house.”\n",
    "\n",
    "# Create a class called Text that takes a string as an argument and store the text in a attribute.\n",
    "# Hint: You need to manually copy-paste the text, straight into the code\n",
    "\n",
    "\n",
    "# Implement the following methods:\n",
    "# a method to return the frequency of a word in the text (assume words are separated by whitespace) return None or a meaningful message.\n",
    "# a method that returns the most common word in the text.\n",
    "# a method that returns a list of all the unique words in the text.\n",
    "class Text:\n",
    "    def __init__(self, text):\n",
    "        self.text = text\n",
    "\n",
    "    def word_frequency(self, word):\n",
    "        return self.text.count(word)\n",
    "\n",
    "    def most_common_word(self):\n",
    "        max(self.text.split(), key=self.text.count)\n",
    "\n",
    "    def unique_words(self):\n",
    "        return set(self.text.split())\n",
    "\n",
    "    @classmethod\n",
    "    def from_file(cls, file):\n",
    "        with open(file) as f:\n",
    "            return f.read()\n",
    "\n",
    "\n",
    "# Now, use the provided test_string and try using the class you created above.\n",
    "\n",
    "Word_count = Text(test_string)\n",
    "\n",
    "word_freq = Word_count.word_frequency(\"good\")\n",
    "\n",
    "print(word_freq)\n",
    "\n",
    "albert = Text.from_file(\"week5/day4/testtextday4.txt\")\n",
    "\n",
    "print(albert)\n",
    "\n",
    "# Part II\n",
    "\n",
    "# Then, we will analyze a text coming from an external text file. Download the_stranger.txt file.\n",
    "\n",
    "# Implement a classmethod that returns a Text instance but with a text file:\n",
    "\n",
    "#     >>> Text.from_file('the_stranger.txt')\n",
    "# Hint: You need to open and read the text from the text file.\n",
    "\n",
    "\n",
    "# Now, use the provided the_stranger.txt file and try using the class you created above.\n",
    "\n",
    "\n",
    "# Bonus:\n",
    "\n",
    "# Create a class called TextModification that inherits from Text.\n",
    "\n",
    "# Implement the following methods:\n",
    "# a method that returns the text without any punctuation.\n",
    "# a method that returns the text without any english stop-words (check out what this is !!).\n",
    "# a method that returns the text without any special characters.\n",
    "# Note: Feel free to implement/create any attribute, method or function needed to make this work, be creative :)\n"
   ]
  },
  {
   "cell_type": "code",
   "execution_count": null,
   "metadata": {},
   "outputs": [],
   "source": []
  }
 ],
 "metadata": {
  "kernelspec": {
   "display_name": "Python 3",
   "language": "python",
   "name": "python3"
  },
  "language_info": {
   "codemirror_mode": {
    "name": "ipython",
    "version": 3
   },
   "file_extension": ".py",
   "mimetype": "text/x-python",
   "name": "python",
   "nbconvert_exporter": "python",
   "pygments_lexer": "ipython3",
   "version": "3.11.1"
  },
  "orig_nbformat": 4,
  "vscode": {
   "interpreter": {
    "hash": "aee8b7b246df8f9039afb4144a1f6fd8d2ca17a180786b69acc140d282b71a49"
   }
  }
 },
 "nbformat": 4,
 "nbformat_minor": 2
}
