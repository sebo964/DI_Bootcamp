{
 "cells": [
  {
   "cell_type": "code",
   "execution_count": 2,
   "metadata": {},
   "outputs": [
    {
     "name": "stdout",
     "output_type": "stream",
     "text": [
      "2\n"
     ]
    },
    {
     "ename": "FileNotFoundError",
     "evalue": "[Errno 2] No such file or directory: 'week5/day4/testtextday4.txt'",
     "output_type": "error",
     "traceback": [
      "\u001B[0;31m---------------------------------------------------------------------------\u001B[0m",
      "\u001B[0;31mFileNotFoundError\u001B[0m                         Traceback (most recent call last)",
      "Cell \u001B[0;32mIn[2], line 48\u001B[0m\n\u001B[1;32m     44\u001B[0m word_freq \u001B[39m=\u001B[39m Word_count\u001B[39m.\u001B[39mword_frequency(\u001B[39m\"\u001B[39m\u001B[39mgood\u001B[39m\u001B[39m\"\u001B[39m)\n\u001B[1;32m     46\u001B[0m \u001B[39mprint\u001B[39m(word_freq)\n\u001B[0;32m---> 48\u001B[0m albert \u001B[39m=\u001B[39m Text\u001B[39m.\u001B[39;49mfrom_file(\u001B[39m\"\u001B[39;49m\u001B[39mweek5/day4/testtextday4.txt\u001B[39;49m\u001B[39m\"\u001B[39;49m)\n\u001B[1;32m     50\u001B[0m \u001B[39mprint\u001B[39m(albert)\n\u001B[1;32m     52\u001B[0m \u001B[39m# Part II\u001B[39;00m\n\u001B[1;32m     53\u001B[0m \n\u001B[1;32m     54\u001B[0m \u001B[39m# Then, we will analyze a text coming from an external text file. Download the_stranger.txt file.\u001B[39;00m\n\u001B[0;32m   (...)\u001B[0m\n\u001B[1;32m     72\u001B[0m \u001B[39m# a method that returns the text without any special characters.\u001B[39;00m\n\u001B[1;32m     73\u001B[0m \u001B[39m# Note: Feel free to implement/create any attribute, method or function needed to make this work, be creative :)\u001B[39;00m\n",
      "Cell \u001B[0;32mIn[2], line 36\u001B[0m, in \u001B[0;36mText.from_file\u001B[0;34m(cls, file)\u001B[0m\n\u001B[1;32m     34\u001B[0m \u001B[39m@classmethod\u001B[39m\n\u001B[1;32m     35\u001B[0m \u001B[39mdef\u001B[39;00m \u001B[39mfrom_file\u001B[39m(\u001B[39mcls\u001B[39m, file):\n\u001B[0;32m---> 36\u001B[0m     \u001B[39mwith\u001B[39;00m \u001B[39mopen\u001B[39;49m(file) \u001B[39mas\u001B[39;00m f:\n\u001B[1;32m     37\u001B[0m         \u001B[39mreturn\u001B[39;00m f\u001B[39m.\u001B[39mread()\n",
      "File \u001B[0;32m/Library/Frameworks/Python.framework/Versions/3.11/lib/python3.11/site-packages/IPython/core/interactiveshell.py:282\u001B[0m, in \u001B[0;36m_modified_open\u001B[0;34m(file, *args, **kwargs)\u001B[0m\n\u001B[1;32m    275\u001B[0m \u001B[39mif\u001B[39;00m file \u001B[39min\u001B[39;00m {\u001B[39m0\u001B[39m, \u001B[39m1\u001B[39m, \u001B[39m2\u001B[39m}:\n\u001B[1;32m    276\u001B[0m     \u001B[39mraise\u001B[39;00m \u001B[39mValueError\u001B[39;00m(\n\u001B[1;32m    277\u001B[0m         \u001B[39mf\u001B[39m\u001B[39m\"\u001B[39m\u001B[39mIPython won\u001B[39m\u001B[39m'\u001B[39m\u001B[39mt let you open fd=\u001B[39m\u001B[39m{\u001B[39;00mfile\u001B[39m}\u001B[39;00m\u001B[39m by default \u001B[39m\u001B[39m\"\u001B[39m\n\u001B[1;32m    278\u001B[0m         \u001B[39m\"\u001B[39m\u001B[39mas it is likely to crash IPython. If you know what you are doing, \u001B[39m\u001B[39m\"\u001B[39m\n\u001B[1;32m    279\u001B[0m         \u001B[39m\"\u001B[39m\u001B[39myou can use builtins\u001B[39m\u001B[39m'\u001B[39m\u001B[39m open.\u001B[39m\u001B[39m\"\u001B[39m\n\u001B[1;32m    280\u001B[0m     )\n\u001B[0;32m--> 282\u001B[0m \u001B[39mreturn\u001B[39;00m io_open(file, \u001B[39m*\u001B[39;49margs, \u001B[39m*\u001B[39;49m\u001B[39m*\u001B[39;49mkwargs)\n",
      "\u001B[0;31mFileNotFoundError\u001B[0m: [Errno 2] No such file or directory: 'week5/day4/testtextday4.txt'"
     ]
    }
   ],
   "source": [
    "# # Instructions :\n",
    "\n",
    "# The goal of the exercise is to create a class that will help you analyze a specific text. A text can be just a simple string, like “Today, is a happy day” or it can be an external text file.\n",
    "\n",
    "\n",
    "test_string = \"A good book would sometimes cost as much as a good house.\"\n",
    "\n",
    "\n",
    "# Part I\n",
    "\n",
    "# First, we will analyze a simple string, like “A good book would sometimes cost as much as a good house.”\n",
    "\n",
    "# Create a class called Text that takes a string as an argument and store the text in a attribute.\n",
    "# Hint: You need to manually copy-paste the text, straight into the code\n",
    "\n",
    "\n",
    "# Implement the following methods:\n",
    "# a method to return the frequency of a word in the text (assume words are separated by whitespace) return None or a meaningful message.\n",
    "# a method that returns the most common word in the text.\n",
    "# a method that returns a list of all the unique words in the text.\n",
    "class Text:\n",
    "    def __init__(self, text):\n",
    "        self.text = text\n",
    "\n",
    "    def word_frequency(self, word):\n",
    "        return self.text.count(word)\n",
    "\n",
    "    def most_common_word(self):\n",
    "        max(self.text.split(), key=self.text.count)\n",
    "\n",
    "    def unique_words(self):\n",
    "        return set(self.text.split())\n",
    "\n",
    "    @classmethod\n",
    "    def from_file(cls, file):\n",
    "        with open(file) as f:\n",
    "            return f.read()\n",
    "\n",
    "\n",
    "# Now, use the provided test_string and try using the class you created above.\n",
    "\n",
    "Word_count = Text(test_string)\n",
    "\n",
    "word_freq = Word_count.word_frequency(\"good\")\n",
    "\n",
    "print(word_freq)\n",
    "\n",
    "albert = Text.from_file(\"week5/day4/testtextday4.txt\")\n",
    "\n",
    "print(albert)\n",
    "\n",
    "# Part II\n",
    "\n",
    "# Then, we will analyze a text coming from an external text file. Download the_stranger.txt file.\n",
    "\n",
    "# Implement a classmethod that returns a Text instance but with a text file:\n",
    "\n",
    "#     >>> Text.from_file('the_stranger.txt')\n",
    "# Hint: You need to open and read the text from the text file.\n",
    "\n",
    "\n",
    "# Now, use the provided the_stranger.txt file and try using the class you created above.\n",
    "\n",
    "\n",
    "# Bonus:\n",
    "\n",
    "# Create a class called TextModification that inherits from Text.\n",
    "\n",
    "# Implement the following methods:\n",
    "# a method that returns the text without any punctuation.\n",
    "# a method that returns the text without any english stop-words (check out what this is !!).\n",
    "# a method that returns the text without any special characters.\n",
    "# Note: Feel free to implement/create any attribute, method or function needed to make this work, be creative :)\n"
   ]
  },
  {
   "cell_type": "code",
   "execution_count": null,
   "metadata": {},
   "outputs": [],
   "source": []
  }
 ],
 "metadata": {
  "kernelspec": {
   "display_name": "Python 3",
   "language": "python",
   "name": "python3"
  },
  "language_info": {
   "codemirror_mode": {
    "name": "ipython",
    "version": 3
   },
   "file_extension": ".py",
   "mimetype": "text/x-python",
   "name": "python",
   "nbconvert_exporter": "python",
   "pygments_lexer": "ipython3",
   "version": "3.11.1"
  },
  "orig_nbformat": 4,
  "vscode": {
   "interpreter": {
    "hash": "aee8b7b246df8f9039afb4144a1f6fd8d2ca17a180786b69acc140d282b71a49"
   }
  }
 },
 "nbformat": 4,
 "nbformat_minor": 2
}
