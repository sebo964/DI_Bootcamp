{
 "cells": [
  {
   "cell_type": "code",
   "execution_count": null,
   "metadata": {},
   "outputs": [],
   "source": [
    "import seaborn as sns\n",
    "import matplotlib.pyplot as plt\n",
    "import pandas as pd\n",
    "\n",
    "df = pd.read_csv(\n",
    "    \"https://raw.githubusercontent.com/datasciencedojo/datasets/master/titanic.csv\"\n",
    ")\n",
    "sns.catplot(\"Sex\", \"Age\", data=df, kind=\"box\")\n",
    "plt.show()\n"
   ]
  },
  {
   "cell_type": "code",
   "execution_count": null,
   "metadata": {},
   "outputs": [],
   "source": [
    "import seaborn as sns\n",
    "import matplotlib.pyplot as plt\n",
    "import pandas as pd\n",
    "\n",
    "df = pd.read_csv(\n",
    "    \"https://raw.githubusercontent.com/datasciencedojo/datasets/master/titanic.csv\"\n",
    ")\n",
    "\n",
    "# user seaborn to create pie charts to show the distribution of the \"Survived\" column across passencers class. \n",
    "\n",
    "sns.catplot(\"Pclass\", \"Survived\", data=df, kind=\"pie\")\n",
    "\n",
    "# plot a pie chart to show the distribution of the \"Survived\" v/s \"Not Survived\" column across passencers class.\n",
    "\n",
    "\n",
    "plt.show()\n"
   ]
  },
  {
   "cell_type": "code",
   "execution_count": null,
   "metadata": {},
   "outputs": [],
   "source": [
    "import seaborn as sns\n",
    "import pandas as pd\n",
    "import matplotlib.pyplot as plt\n",
    "\n",
    "# Load the Titanic dataset\n",
    "df = pd.read_csv(\"https://raw.githubusercontent.com/datasciencedojo/datasets/master/titanic.csv\")\n",
    "\n",
    "# Group the data by Pclass and Survived columns and count the number of passengers in each group\n",
    "grouped_data = df.groupby(['Pclass', 'Survived']).size().reset_index(name='count')\n",
    "\n",
    "print (grouped_data)\n",
    "\n",
    "for i in range(1,4):\n",
    "    # Create a pie chart for each Pclass\n",
    "    plt.figure(i)\n",
    "    plt.pie(grouped_data[grouped_data['Pclass'] == i]['count'], labels=['Not Survived', 'Survived'], autopct='%1.1f%%')\n",
    "    plt.title('Pclass ' + str(i))\n",
    "    # add a legend for count of passengers in each group\n",
    "    plt.legend(grouped_data[grouped_data['Pclass'] == i]['count'], loc='upper right')\n",
    "    \n",
    "plt.show()\n",
    "\n",
    "\n",
    "# first class passengers survival rate was higher indicating they were given priority during rescue operations. In terms of absolute values the number of survivors in first class was higher than the number of survivors in third class. the difference is too large to be coincidence."
   ]
  },
  {
   "cell_type": "code",
   "execution_count": null,
   "metadata": {},
   "outputs": [],
   "source": []
  }
 ],
 "metadata": {
  "kernelspec": {
   "display_name": "Python 3",
   "language": "python",
   "name": "python3"
  },
  "language_info": {
   "codemirror_mode": {
    "name": "ipython",
    "version": 3
   },
   "file_extension": ".py",
   "mimetype": "text/x-python",
   "name": "python",
   "nbconvert_exporter": "python",
   "pygments_lexer": "ipython3",
   "version": "3.9.13"
  },
  "orig_nbformat": 4,
  "vscode": {
   "interpreter": {
    "hash": "da21f2ca31b143c47a51888c80472f9a711a0ffe3f7ebd6f16c40f0138511420"
   }
  }
 },
 "nbformat": 4,
 "nbformat_minor": 2
}
