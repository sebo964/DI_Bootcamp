{
 "cells": [
  {
   "cell_type": "code",
   "execution_count": null,
   "metadata": {},
   "outputs": [],
   "source": [
    "# # function that accepts input start, length, and stop.\n",
    "# Write a function to create a numpy array using only the input: start, length, and step.\n",
    "# Use the function to create an numpy array of length 100, starting from 6 and has a step of 4 between consecutive numbers\n",
    "\n",
    "import numpy\n",
    "\n",
    "# user_start = int(input(\"Enter the start number: \"))\n",
    "# user_length = int(input(\"Enter the length of the array: \"))\n",
    "# user_step = int(input(\"Enter the step between consecutive numbers: \"))\n",
    "\n",
    "\n",
    "def create_array(start, length, step):\n",
    "    return numpy.arange(start, length * step + start, step)\n",
    "\n",
    "\n",
    "print(create_array(6, 100, 4))\n"
   ]
  },
  {
   "cell_type": "code",
   "execution_count": null,
   "metadata": {},
   "outputs": [],
   "source": [
    "# Drop all nan values from the following numpy array.\n",
    "\n",
    "import numpy as np\n",
    "\n",
    "a = np.array([1, 2, 3, np.nan, 5, 6, 7, np.nan])\n",
    "\n",
    "new_array_values_only = a[~np.isnan(a)]\n",
    "\n",
    "print(new_array_values_only)\n"
   ]
  },
  {
   "cell_type": "code",
   "execution_count": null,
   "metadata": {},
   "outputs": [],
   "source": [
    "# create a random numpy array that has a shape of (5, 6) filled with integers between 1 and 100.\n",
    "# Then compute the maximum int for each row in the array\n",
    "\n",
    "import numpy as np\n",
    "\n",
    "\n",
    "random_array = np.random.randint(1, 100, size=(5, 6))\n",
    "\n",
    "print(random_array)\n",
    "\n",
    "list_of_max_each_row = [i for i in random_array.max(axis=1)]\n",
    "\n",
    "print(list_of_max_each_row)\n"
   ]
  },
  {
   "cell_type": "code",
   "execution_count": null,
   "metadata": {},
   "outputs": [],
   "source": [
    "# use a pandas Series function to find the unique values and their frequencies of the following Series:\n",
    "\n",
    "import pandas as pd\n",
    "import numpy as np\n",
    "\n",
    "series = pd.Series(np.take(list(\"abcdefghijklmnop\"), np.random.randint(16, size=500)))\n",
    "\n",
    "print(series)\n",
    "print(series.unique())\n",
    "print(series.value_counts())\n"
   ]
  },
  {
   "cell_type": "code",
   "execution_count": null,
   "metadata": {},
   "outputs": [],
   "source": []
  },
  {
   "cell_type": "code",
   "execution_count": null,
   "metadata": {},
   "outputs": [],
   "source": [
    "# Get the day of month, week number, day of year and day of week from this pandas series\n",
    "\n",
    "import pandas as pd\n",
    "\n",
    "series = pd.Series(\n",
    "    [\n",
    "        \"01 Jan 2020\",\n",
    "        \"10-19-2020\",\n",
    "        \"20150303\",\n",
    "        \"2013/04/04\",\n",
    "        \"2012-05-05\",\n",
    "        \"2013-06-06T12:20\",\n",
    "        \"13-06-12\",\n",
    "    ]\n",
    ")\n",
    "\n",
    "# Convert the series to datetime\n",
    "\n",
    "series_datetime = pd.to_datetime(series)\n",
    "print(series_datetime)\n",
    "\n",
    "day_of_month = series_datetime.dt.day\n",
    "\n",
    "print(day_of_month)\n",
    "\n",
    "week_number = series_datetime.dt.isocalendar().week\n",
    "\n",
    "print(week_number)\n",
    "\n",
    "day_of_year = series_datetime.dt.dayofyear\n",
    "\n",
    "print(day_of_year)\n",
    "\n",
    "day_of_week = series_datetime.dt.day_name()\n",
    "\n",
    "print(day_of_week)\n"
   ]
  },
  {
   "cell_type": "code",
   "execution_count": null,
   "metadata": {},
   "outputs": [],
   "source": [
    "# We said that NumPy is pretty much a list on steroids. Let’s see that in action.\n",
    "\n",
    "# For the tasks below, do them using a regular Python list implementation, and then use NumPy.\n",
    "\n",
    "# Create a table (i.e. a 2d array) of size M x N filled with random integers between 1 and 100,\n",
    "# where 1 < N < 40 and 1 < M < 50.\n",
    "\n",
    "# Print out the third row\n",
    "\n",
    "# Print out the third column\n",
    "\n",
    "# Set every element in the last row equal to 7\n",
    "\n",
    "# Set every element in the last column equal the sum of the first two columns. (note: the result of \n",
    "# the sum is a list which will the same length as the last column)\n",
    "\n",
    "import numpy as np\n",
    "\n",
    "table_rand = np.random.randint(1, 100, size=(np.random.randint(1, 50), np.random.randint(1, 40)))\n",
    "\n",
    "print(table_rand[2])    # Print out the third row\n",
    "\n",
    " "
   ]
  },
  {
   "cell_type": "code",
   "execution_count": null,
   "metadata": {},
   "outputs": [],
   "source": [
    "# Read the data from https://raw.githubusercontent.com/selva86/datasets/master/Cars93_miss.csv into a pandas dataframe.\n",
    "# Do not download the file.\n",
    "\n",
    "# Then\n",
    "# - print how many columns are of each datatype.\n",
    "# - Change the column name “Type” to “TypeOfCar” and print the head of the dataframe\n",
    "\n",
    "# How many values are missing from each of the columns?\n",
    "# Which columns has the most missing values? (answer with code, without sorting)\n",
    "\n",
    "import pandas as pd\n",
    "\n",
    "# Read data from URL\n",
    "url = \"https://raw.githubusercontent.com/selva86/datasets/master/Cars93_miss.csv\"\n",
    "df = pd.read_csv(url)\n",
    "\n",
    "# Print number of columns of each datatype\n",
    "print(df.dtypes.value_counts())\n",
    "\n",
    "print(df.head())\n",
    "\n",
    "# - Change the column name “Type” to “TypeOfCar” and print the head of the dataframe\n",
    "\n",
    "df.rename(columns={\"Type\": \"TypeOfCar\"}, inplace=True)\n",
    "\n",
    "print(df.head())\n",
    "\n",
    "print(df.columns)\n",
    "\n",
    "# find the number of missing values in each column\n",
    "\n",
    "number_of_missing_values = df.isna().sum()\n",
    "\n",
    "print(number_of_missing_values)\n",
    "\n",
    "number_of_missing_values = df.isna().sum().sort_values(ascending=False)\n",
    "\n",
    "# top value of numuber_of_missing_values is the column with the most missing values, return key and value of top value\n",
    "\n",
    "top_value = number_of_missing_values.head(1)\n",
    "\n",
    "print(top_value)"
   ]
  },
  {
   "cell_type": "code",
   "execution_count": null,
   "metadata": {},
   "outputs": [],
   "source": [
    "# Join the following two dataframes by two columns, so they have only the common rows. Remove duplicate\n",
    "# columns (meaning that all values are the same) to keep only one.\n",
    "\n",
    "import pandas as pd\n",
    "import numpy as np\n",
    "\n",
    "df1 = pd.DataFrame({'fruit': ['apple', 'banana', 'orange'] * 3,\n",
    "                    'weight': ['high', 'medium', 'low'] * 3,\n",
    "                    'price': np.random.randint(0, 15, 9)})\n",
    "\n",
    "df2 = pd.DataFrame({'pazham': ['apple', 'orange', 'pine'] * 2,\n",
    "                    'kilo': ['high', 'low'] * 3,\n",
    "                    'price': np.random.randint(0, 15, 6)})\n",
    "\n",
    "df3 = pd.merge(df1, df2, left_on=['fruit', 'weight'], right_on=['pazham', 'kilo'], how='inner')\n",
    "\n",
    "print(df3)"
   ]
  },
  {
   "cell_type": "code",
   "execution_count": null,
   "metadata": {},
   "outputs": [],
   "source": [
    "import pandas as pd\n",
    "\n",
    "df = pd.DataFrame(\n",
    "    [\n",
    "        \"STD,City\\tState\",\n",
    "        \"33,Kolkata\\tWest Bengal\",\n",
    "        \"44,Chennai\\tTamil Nadu\",\n",
    "        \"40,Hyderabad\\tTelengana\",\n",
    "        \"80,Bangalore\\tKarnataka\",\n",
    "    ],\n",
    "    columns=[\"row\"],\n",
    ")\n",
    "\n",
    "col3 = df[\"row\"].str.split(\"\\t\", expand=True)\n",
    "\n",
    "col2 = col3[0].str.split(\",\", expand=True)\n",
    "\n",
    "col_all_3 = pd.concat([col2, col3[1]], axis=1)\n",
    "\n",
    "print(col_all_3)\n"
   ]
  },
  {
   "cell_type": "code",
   "execution_count": null,
   "metadata": {},
   "outputs": [],
   "source": [
    "import pandas as pd\n",
    "import matplotlib as mp \n",
    "names = [\"mpg\", \"cylinders\", \"displacement\", \"horsepower\", \"weight\", \"acceleration\", \"model_year\", \"origin\", \"car_name\"]\n",
    "df_mpg = pd.read_csv(\"auto-mpg.data\", header=None, names=names, delim_whitespace=True)\n",
    "\n",
    "# create a scatter plot with displacement x axis and acceleration y axis\n",
    "\n",
    "df_mpg.plot.scatter(x=\"displacement\", y=\"acceleration\")\n",
    "\n"
   ]
  },
  {
   "cell_type": "code",
   "execution_count": null,
   "metadata": {},
   "outputs": [],
   "source": [
    "import pandas as pd\n",
    "import matplotlib as mp\n",
    "\n",
    "names = [\n",
    "    \"mpg\",\n",
    "    \"cylinders\",\n",
    "    \"displacement\",\n",
    "    \"horsepower\",\n",
    "    \"weight\",\n",
    "    \"acceleration\",\n",
    "    \"model_year\",\n",
    "    \"origin\",\n",
    "    \"car_name\",\n",
    "]\n",
    "df_mpg = pd.read_csv(\n",
    "    \"auto-mpg.data\", header=None, names=names, delim_whitespace=True\n",
    ")\n",
    "\n",
    "# create a scatter plot with displacement x axis and acceleration y axis\n",
    "\n",
    "df_mpg.plot.scatter(x=\"displacement\", y=\"acceleration\")\n"
   ]
  },
  {
   "cell_type": "code",
   "execution_count": 4,
   "metadata": {},
   "outputs": [
    {
     "name": "stderr",
     "output_type": "stream",
     "text": [
      "/Users/sebastienarokeum/opt/anaconda3/lib/python3.9/site-packages/seaborn/_decorators.py:36: FutureWarning: Pass the following variables as keyword args: x, y. From version 0.12, the only valid positional argument will be `data`, and passing other arguments without an explicit keyword will result in an error or misinterpretation.\n",
      "  warnings.warn(\n"
     ]
    },
    {
     "data": {
      "image/png": "[encoded data removed]",
      "text/plain": [
       "<Figure size 500x500 with 1 Axes>"
      ]
     },
     "metadata": {},
     "output_type": "display_data"
    }
   ],
   "source": [
    "import seaborn as sns\n",
    "import matplotlib.pyplot as plt\n",
    "import pandas as pd\n",
    "\n",
    "df = pd.read_csv(\n",
    "    \"https://raw.githubusercontent.com/datasciencedojo/datasets/master/titanic.csv\"\n",
    ")\n",
    "sns.catplot(\"Sex\", \"Age\", data=df, kind=\"box\")\n",
    "plt.show()\n"
   ]
  }
 ],
 "metadata": {
  "kernelspec": {
   "display_name": "Python 3",
   "language": "python",
   "name": "python3"
  },
  "language_info": {
   "codemirror_mode": {
    "name": "ipython",
    "version": 3
   },
   "file_extension": ".py",
   "mimetype": "text/x-python",
   "name": "python",
   "nbconvert_exporter": "python",
   "pygments_lexer": "ipython3",
   "version": "3.9.13"
  },
  "orig_nbformat": 4,
  "vscode": {
   "interpreter": {
    "hash": "da21f2ca31b143c47a51888c80472f9a711a0ffe3f7ebd6f16c40f0138511420"
   }
  }
 },
 "nbformat": 4,
 "nbformat_minor": 2
}
